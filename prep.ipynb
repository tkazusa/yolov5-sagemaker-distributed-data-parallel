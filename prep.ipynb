{
 "cells": [
  {
   "cell_type": "code",
   "execution_count": 8,
   "id": "c8150ed2",
   "metadata": {},
   "outputs": [],
   "source": [
    "import yaml\n",
    "from pathlib import Path\n",
    "import os\n",
    "\n",
    "def check_dataset(dict):\n",
    "    \"\"\" check what dataset is used for training from data_dict and download it. This function is from util/general.py\n",
    "    \"\"\"\n",
    "    # Download dataset if not found locally\n",
    "    val, s = dict.get('val'), dict.get('download')\n",
    "    if val and len(val):\n",
    "        val = [Path(x).resolve() for x in (val if isinstance(val, list) else [val])]  # val path\n",
    "        if not all(x.exists() for x in val):\n",
    "            print('\\nWARNING: Dataset not found, nonexistent paths: %s' % [str(x) for x in val if not x.exists()])\n",
    "            if s and len(s):  # download script\n",
    "                if s.startswith('http') and s.endswith('.zip'):  # URL\n",
    "                    f = Path(s).name  # filename\n",
    "                    print(f'Downloading {s} ...')\n",
    "                    torch.hub.download_url_to_file(s, f)\n",
    "                    r = os.system(f'unzip -q {f} -d ../ && rm {f}')  # unzip\n",
    "                elif s.startswith('bash '):  # bash script\n",
    "                    print(f'Running {s} ...')\n",
    "                    r = os.system(s)\n",
    "                else:  # python script\n",
    "                    r = exec(s)  # return None\n",
    "                print('Dataset autodownload %s\\n' % ('success' if r in (0, None) else 'failure'))  # print result\n",
    "            else:\n",
    "                raise Exception('Dataset not found.')"
   ]
  },
  {
   "cell_type": "code",
   "execution_count": 9,
   "id": "939eb6d0",
   "metadata": {},
   "outputs": [],
   "source": [
    "with open(\"data/coco.yaml\") as f:\n",
    "    data_dict = yaml.safe_load(f)  # data dict"
   ]
  },
  {
   "cell_type": "code",
   "execution_count": 10,
   "id": "a317f20f",
   "metadata": {},
   "outputs": [
    {
     "name": "stdout",
     "output_type": "stream",
     "text": [
      "\n",
      "WARNING: Dataset not found, nonexistent paths: ['/home/ec2-user/SageMaker/coco/val2017.txt']\n",
      "Running bash data/scripts/get_coco.sh ...\n",
      "Dataset autodownload success\n",
      "\n"
     ]
    }
   ],
   "source": [
    "check_dataset(data_dict)"
   ]
  },
  {
   "cell_type": "code",
   "execution_count": null,
   "id": "45f98908",
   "metadata": {},
   "outputs": [],
   "source": [
    "import sagemaker\n",
    "from sagemaker import get_execution_role\n",
    "\n",
    "# SageMaker を活用するための権限が付与された Role を準備します。\n",
    "role = get_execution_role()\n",
    "\n",
    "sagemaker_session = sagemaker.Session()\n",
    "input_coco = sagemaker_session.upload_data(path='../coco', key_prefix='coco')"
   ]
  },
  {
   "cell_type": "code",
   "execution_count": null,
   "id": "5964fd6e",
   "metadata": {},
   "outputs": [],
   "source": []
  }
 ],
 "metadata": {
  "kernelspec": {
   "display_name": "conda_python3",
   "language": "python",
   "name": "conda_python3"
  },
  "language_info": {
   "codemirror_mode": {
    "name": "ipython",
    "version": 3
   },
   "file_extension": ".py",
   "mimetype": "text/x-python",
   "name": "python",
   "nbconvert_exporter": "python",
   "pygments_lexer": "ipython3",
   "version": "3.6.13"
  }
 },
 "nbformat": 4,
 "nbformat_minor": 5
}
